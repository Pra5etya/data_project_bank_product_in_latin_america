version https://git-lfs.github.com/spec/v1
oid sha256:6eb6ddc5aa38762c58226c3a2a492407969f220003b18066cc2172e9a38718c1
size 48248
